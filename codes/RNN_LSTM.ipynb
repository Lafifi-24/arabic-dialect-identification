{
 "cells": [
  {
   "cell_type": "code",
   "execution_count": 1,
   "metadata": {
    "_cell_guid": "b1076dfc-b9ad-4769-8c92-a6c4dae69d19",
    "_uuid": "8f2839f25d086af736a60e9eeb907d3b93b6e0e5",
    "jupyter": {
     "source_hidden": true
    },
    "tags": []
   },
   "outputs": [],
   "source": [
    "# This Python 3 environment comes with many helpful analytics libraries installed\n",
    "# It is defined by the kaggle/python Docker image: https://github.com/kaggle/docker-python\n",
    "# For example, here's several helpful packages to load\n",
    "\n",
    "import numpy as np # linear algebra\n",
    "import pandas as pd # data processing, CSV file I/O (e.g. pd.read_csv)\n",
    "\n",
    "# Input data files are available in the read-only \"../input/\" directory\n",
    "# For example, running this (by clicking run or pressing Shift+Enter) will list all files under the input directory\n",
    "\n",
    "import os\n",
    "for dirname, _, filenames in os.walk('/kaggle/input'):\n",
    "    for filename in filenames:\n",
    "        print(os.path.join(dirname, filename))\n",
    "\n",
    "# You can write up to 20GB to the current directory (/kaggle/working/) that gets preserved as output when you create a version using \"Save & Run All\" \n",
    "# You can also write temporary files to /kaggle/temp/, but they won't be saved outside of the current session"
   ]
  },
  {
   "cell_type": "code",
   "execution_count": 2,
   "metadata": {
    "tags": []
   },
   "outputs": [],
   "source": [
    "import pandas as pd\n",
    "import matplotlib.pyplot as plt\n",
    "import numpy as np"
   ]
  },
  {
   "cell_type": "code",
   "execution_count": 3,
   "metadata": {
    "collapsed": true,
    "execution": {
     "iopub.execute_input": "2022-12-18T13:59:23.635872Z",
     "iopub.status.busy": "2022-12-18T13:59:23.635286Z",
     "iopub.status.idle": "2022-12-18T14:00:37.386563Z",
     "shell.execute_reply": "2022-12-18T14:00:37.385438Z",
     "shell.execute_reply.started": "2022-12-18T13:59:23.635840Z"
    },
    "jupyter": {
     "outputs_hidden": true,
     "source_hidden": true
    },
    "tags": []
   },
   "outputs": [
    {
     "name": "stdout",
     "output_type": "stream",
     "text": [
      "Collecting package metadata (current_repodata.json): done\n",
      "Solving environment: done\n",
      "\n",
      "\n",
      "==> WARNING: A newer version of conda exists. <==\n",
      "  current version: 22.9.0\n",
      "  latest version: 22.11.1\n",
      "\n",
      "Please update conda by running\n",
      "\n",
      "    $ conda update -n base -c conda-forge conda\n",
      "\n",
      "\n",
      "\n",
      "## Package Plan ##\n",
      "\n",
      "  environment location: /opt/conda\n",
      "\n",
      "  added / updated specs:\n",
      "    - gdown\n",
      "\n",
      "\n",
      "The following packages will be downloaded:\n",
      "\n",
      "    package                    |            build\n",
      "    ---------------------------|-----------------\n",
      "    ca-certificates-2022.12.7  |       ha878542_0         143 KB  conda-forge\n",
      "    certifi-2022.12.7          |     pyhd8ed1ab_0         147 KB  conda-forge\n",
      "    filelock-3.8.2             |     pyhd8ed1ab_0          14 KB  conda-forge\n",
      "    gdown-4.6.0                |     pyhd8ed1ab_0          18 KB  conda-forge\n",
      "    openssl-1.1.1s             |       h0b41bf4_1         1.9 MB  conda-forge\n",
      "    ------------------------------------------------------------\n",
      "                                           Total:         2.2 MB\n",
      "\n",
      "The following NEW packages will be INSTALLED:\n",
      "\n",
      "  filelock           conda-forge/noarch::filelock-3.8.2-pyhd8ed1ab_0 None\n",
      "  gdown              conda-forge/noarch::gdown-4.6.0-pyhd8ed1ab_0 None\n",
      "\n",
      "The following packages will be UPDATED:\n",
      "\n",
      "  ca-certificates                      2022.9.24-ha878542_0 --> 2022.12.7-ha878542_0 None\n",
      "  certifi                            2022.9.24-pyhd8ed1ab_0 --> 2022.12.7-pyhd8ed1ab_0 None\n",
      "  openssl                                 1.1.1q-h166bdaf_0 --> 1.1.1s-h0b41bf4_1 None\n",
      "\n",
      "\n",
      "\n",
      "Downloading and Extracting Packages\n",
      "certifi-2022.12.7    | 147 KB    | ##################################### | 100% \n",
      "ca-certificates-2022 | 143 KB    | ##################################### | 100% \n",
      "gdown-4.6.0          | 18 KB     | ##################################### | 100% \n",
      "filelock-3.8.2       | 14 KB     | ##################################### | 100% \n",
      "openssl-1.1.1s       | 1.9 MB    | ##################################### | 100% \n",
      "Preparing transaction: done\n",
      "Verifying transaction: done\n",
      "Executing transaction: done\n",
      "Retrieving notices: ...working... done\n",
      "/opt/conda/lib/python3.7/site-packages/gdown/cli.py:125: FutureWarning: Option `--id` was deprecated in version 4.3.1 and will be removed in 5.0. You don't need to pass it anymore to use a file ID.\n",
      "  category=FutureWarning,\n",
      "Downloading...\n",
      "From: https://drive.google.com/uc?id=1GItQZtqxf4v6szP_Tf3gcM0taib0F1SH\n",
      "To: /kaggle/working/out.csv\n",
      "100%|███████████████████████████████████████| 41.0M/41.0M [00:00<00:00, 216MB/s]\n"
     ]
    }
   ],
   "source": [
    "!conda install -y gdown\n",
    "!gdown --id 1GItQZtqxf4v6szP_Tf3gcM0taib0F1SH"
   ]
  },
  {
   "cell_type": "code",
   "execution_count": 29,
   "metadata": {
    "tags": []
   },
   "outputs": [],
   "source": [
    "df = pd.read_csv('out.csv')"
   ]
  },
  {
   "cell_type": "code",
   "execution_count": 30,
   "metadata": {
    "tags": []
   },
   "outputs": [],
   "source": [
    "def freq_words_removal(text, lst_words):\n",
    "    lst_text = text.split()\n",
    "    if lst_words is not None:\n",
    "        lst_text = [word for word in lst_text if word not in lst_words]\n",
    "    text = \" \".join(lst_text)\n",
    "    return text"
   ]
  },
  {
   "cell_type": "code",
   "execution_count": 31,
   "metadata": {
    "tags": []
   },
   "outputs": [],
   "source": [
    "wrds = ['مع','لا','على','من','ما','في','الي','هو','انا','أنا','اله']\n",
    "df[\"tweet_clean\"] = df[\"tweet\"].apply(lambda x: freq_words_removal(x, wrds))"
   ]
  },
  {
   "cell_type": "code",
   "execution_count": 32,
   "metadata": {
    "tags": []
   },
   "outputs": [
    {
     "data": {
      "text/html": [
       "<div>\n",
       "<style scoped>\n",
       "    .dataframe tbody tr th:only-of-type {\n",
       "        vertical-align: middle;\n",
       "    }\n",
       "\n",
       "    .dataframe tbody tr th {\n",
       "        vertical-align: top;\n",
       "    }\n",
       "\n",
       "    .dataframe thead th {\n",
       "        text-align: right;\n",
       "    }\n",
       "</style>\n",
       "<table border=\"1\" class=\"dataframe\">\n",
       "  <thead>\n",
       "    <tr style=\"text-align: right;\">\n",
       "      <th></th>\n",
       "      <th>tweet</th>\n",
       "      <th>country</th>\n",
       "      <th>tweet_clean</th>\n",
       "    </tr>\n",
       "  </thead>\n",
       "  <tbody>\n",
       "    <tr>\n",
       "      <th>0</th>\n",
       "      <td>اكيد دخلت تخلصه بنفسك ياستاذ من سنوات كنت مستع...</td>\n",
       "      <td>EG</td>\n",
       "      <td>اكيد دخلت تخلصه بنفسك ياستاذ سنوات كنت مستعجل ...</td>\n",
       "    </tr>\n",
       "    <tr>\n",
       "      <th>1</th>\n",
       "      <td>ادعمالسيسىبيتشعر يالي دفنت الإخوان جوه الجحور ...</td>\n",
       "      <td>EG</td>\n",
       "      <td>ادعمالسيسىبيتشعر يالي دفنت الإخوان جوه الجحور ...</td>\n",
       "    </tr>\n",
       "    <tr>\n",
       "      <th>2</th>\n",
       "      <td>عندي سؤال فضولي دايما هي الناس لي بتدخل تدافع ...</td>\n",
       "      <td>EG</td>\n",
       "      <td>عندي سؤال فضولي دايما هي الناس لي بتدخل تدافع ...</td>\n",
       "    </tr>\n",
       "    <tr>\n",
       "      <th>3</th>\n",
       "      <td>حضرتك دى مش بتقال غير لاهلى مش اى فريق خلاص</td>\n",
       "      <td>EG</td>\n",
       "      <td>حضرتك دى مش بتقال غير لاهلى مش اى فريق خلاص</td>\n",
       "    </tr>\n",
       "    <tr>\n",
       "      <th>4</th>\n",
       "      <td>وبدل ما تحاسبه روح حاسب حكامك يا حمش</td>\n",
       "      <td>EG</td>\n",
       "      <td>وبدل تحاسبه روح حاسب حكامك يا حمش</td>\n",
       "    </tr>\n",
       "  </tbody>\n",
       "</table>\n",
       "</div>"
      ],
      "text/plain": [
       "                                               tweet country  \\\n",
       "0  اكيد دخلت تخلصه بنفسك ياستاذ من سنوات كنت مستع...      EG   \n",
       "1  ادعمالسيسىبيتشعر يالي دفنت الإخوان جوه الجحور ...      EG   \n",
       "2  عندي سؤال فضولي دايما هي الناس لي بتدخل تدافع ...      EG   \n",
       "3        حضرتك دى مش بتقال غير لاهلى مش اى فريق خلاص      EG   \n",
       "4               وبدل ما تحاسبه روح حاسب حكامك يا حمش      EG   \n",
       "\n",
       "                                         tweet_clean  \n",
       "0  اكيد دخلت تخلصه بنفسك ياستاذ سنوات كنت مستعجل ...  \n",
       "1  ادعمالسيسىبيتشعر يالي دفنت الإخوان جوه الجحور ...  \n",
       "2  عندي سؤال فضولي دايما هي الناس لي بتدخل تدافع ...  \n",
       "3        حضرتك دى مش بتقال غير لاهلى مش اى فريق خلاص  \n",
       "4                  وبدل تحاسبه روح حاسب حكامك يا حمش  "
      ]
     },
     "execution_count": 32,
     "metadata": {},
     "output_type": "execute_result"
    }
   ],
   "source": [
    "df.head(5)"
   ]
  },
  {
   "cell_type": "code",
   "execution_count": 33,
   "metadata": {
    "tags": []
   },
   "outputs": [],
   "source": [
    "#Shuffle the dataset\n",
    "df = df.reindex(np.random.permutation(df.index))\n",
    "df['LABEL'] = 0"
   ]
  },
  {
   "cell_type": "code",
   "execution_count": 34,
   "metadata": {
    "tags": []
   },
   "outputs": [
    {
     "data": {
      "text/html": [
       "<div>\n",
       "<style scoped>\n",
       "    .dataframe tbody tr th:only-of-type {\n",
       "        vertical-align: middle;\n",
       "    }\n",
       "\n",
       "    .dataframe tbody tr th {\n",
       "        vertical-align: top;\n",
       "    }\n",
       "\n",
       "    .dataframe thead th {\n",
       "        text-align: right;\n",
       "    }\n",
       "</style>\n",
       "<table border=\"1\" class=\"dataframe\">\n",
       "  <thead>\n",
       "    <tr style=\"text-align: right;\">\n",
       "      <th></th>\n",
       "      <th>tweet</th>\n",
       "      <th>country</th>\n",
       "      <th>tweet_clean</th>\n",
       "      <th>LABEL</th>\n",
       "    </tr>\n",
       "  </thead>\n",
       "  <tbody>\n",
       "    <tr>\n",
       "      <th>302131</th>\n",
       "      <td>كان جاو عباد راهم استحفظوا على يسارهم واتفاهمو...</td>\n",
       "      <td>TN</td>\n",
       "      <td>كان جاو عباد راهم استحفظوا يسارهم واتفاهموا وا...</td>\n",
       "      <td>0</td>\n",
       "    </tr>\n",
       "    <tr>\n",
       "      <th>193070</th>\n",
       "      <td>انا من سنة حولت على فيفا مع اني من المتعصبين ل...</td>\n",
       "      <td>AE</td>\n",
       "      <td>سنة حولت فيفا اني المتعصبين لكن كونامي سيء الى...</td>\n",
       "      <td>0</td>\n",
       "    </tr>\n",
       "    <tr>\n",
       "      <th>88604</th>\n",
       "      <td>يمكن ما في شي بضحك عم بحكي جد</td>\n",
       "      <td>LB</td>\n",
       "      <td>يمكن شي بضحك عم بحكي جد</td>\n",
       "      <td>0</td>\n",
       "    </tr>\n",
       "    <tr>\n",
       "      <th>323840</th>\n",
       "      <td>مع انك اغلى ما عندي انا منك وعنك تب</td>\n",
       "      <td>YE</td>\n",
       "      <td>انك اغلى عندي منك وعنك تب</td>\n",
       "      <td>0</td>\n",
       "    </tr>\n",
       "    <tr>\n",
       "      <th>94823</th>\n",
       "      <td>حطيلي لايك بين الحين والاخر حتى اعلم انك بخير</td>\n",
       "      <td>LB</td>\n",
       "      <td>حطيلي لايك بين الحين والاخر حتى اعلم انك بخير</td>\n",
       "      <td>0</td>\n",
       "    </tr>\n",
       "    <tr>\n",
       "      <th>...</th>\n",
       "      <td>...</td>\n",
       "      <td>...</td>\n",
       "      <td>...</td>\n",
       "      <td>...</td>\n",
       "    </tr>\n",
       "    <tr>\n",
       "      <th>93637</th>\n",
       "      <td>كنت عم بمزح معك مين قلك انا زهقان</td>\n",
       "      <td>LB</td>\n",
       "      <td>كنت عم بمزح معك مين قلك زهقان</td>\n",
       "      <td>0</td>\n",
       "    </tr>\n",
       "    <tr>\n",
       "      <th>265696</th>\n",
       "      <td>راه ديجا انسالخنا من الحوايج الجوهرية دابا عاد...</td>\n",
       "      <td>MA</td>\n",
       "      <td>راه ديجا انسالخنا الحوايج الجوهرية دابا عاد دز...</td>\n",
       "      <td>0</td>\n",
       "    </tr>\n",
       "    <tr>\n",
       "      <th>109760</th>\n",
       "      <td>الفرق بين مونتيلا جاتوزو</td>\n",
       "      <td>LY</td>\n",
       "      <td>الفرق بين مونتيلا جاتوزو</td>\n",
       "      <td>0</td>\n",
       "    </tr>\n",
       "    <tr>\n",
       "      <th>316920</th>\n",
       "      <td>واله نفس الملاحظة ياقديم الاخبار بتلقاها متباي...</td>\n",
       "      <td>SD</td>\n",
       "      <td>واله نفس الملاحظة ياقديم الاخبار بتلقاها متباي...</td>\n",
       "      <td>0</td>\n",
       "    </tr>\n",
       "    <tr>\n",
       "      <th>320404</th>\n",
       "      <td>اغبي سؤال لقيتو لمن اسألوني وانا طالع من الدكت...</td>\n",
       "      <td>SD</td>\n",
       "      <td>اغبي سؤال لقيتو لمن اسألوني وانا طالع الدكتور ...</td>\n",
       "      <td>0</td>\n",
       "    </tr>\n",
       "  </tbody>\n",
       "</table>\n",
       "<p>332038 rows × 4 columns</p>\n",
       "</div>"
      ],
      "text/plain": [
       "                                                    tweet country  \\\n",
       "302131  كان جاو عباد راهم استحفظوا على يسارهم واتفاهمو...      TN   \n",
       "193070  انا من سنة حولت على فيفا مع اني من المتعصبين ل...      AE   \n",
       "88604                       يمكن ما في شي بضحك عم بحكي جد      LB   \n",
       "323840                مع انك اغلى ما عندي انا منك وعنك تب      YE   \n",
       "94823       حطيلي لايك بين الحين والاخر حتى اعلم انك بخير      LB   \n",
       "...                                                   ...     ...   \n",
       "93637                   كنت عم بمزح معك مين قلك انا زهقان      LB   \n",
       "265696  راه ديجا انسالخنا من الحوايج الجوهرية دابا عاد...      MA   \n",
       "109760                           الفرق بين مونتيلا جاتوزو      LY   \n",
       "316920  واله نفس الملاحظة ياقديم الاخبار بتلقاها متباي...      SD   \n",
       "320404  اغبي سؤال لقيتو لمن اسألوني وانا طالع من الدكت...      SD   \n",
       "\n",
       "                                              tweet_clean  LABEL  \n",
       "302131  كان جاو عباد راهم استحفظوا يسارهم واتفاهموا وا...      0  \n",
       "193070  سنة حولت فيفا اني المتعصبين لكن كونامي سيء الى...      0  \n",
       "88604                             يمكن شي بضحك عم بحكي جد      0  \n",
       "323840                          انك اغلى عندي منك وعنك تب      0  \n",
       "94823       حطيلي لايك بين الحين والاخر حتى اعلم انك بخير      0  \n",
       "...                                                   ...    ...  \n",
       "93637                       كنت عم بمزح معك مين قلك زهقان      0  \n",
       "265696  راه ديجا انسالخنا الحوايج الجوهرية دابا عاد دز...      0  \n",
       "109760                           الفرق بين مونتيلا جاتوزو      0  \n",
       "316920  واله نفس الملاحظة ياقديم الاخبار بتلقاها متباي...      0  \n",
       "320404  اغبي سؤال لقيتو لمن اسألوني وانا طالع الدكتور ...      0  \n",
       "\n",
       "[332038 rows x 4 columns]"
      ]
     },
     "execution_count": 34,
     "metadata": {},
     "output_type": "execute_result"
    }
   ],
   "source": [
    "df"
   ]
  },
  {
   "cell_type": "code",
   "execution_count": 35,
   "metadata": {
    "tags": []
   },
   "outputs": [
    {
     "name": "stdout",
     "output_type": "stream",
     "text": [
      "302131    14\n",
      "193070     3\n",
      "88604     12\n",
      "323840    17\n",
      "94823     12\n",
      "159202    15\n",
      "30409     13\n",
      "38306     13\n",
      "182224     3\n",
      "220833     0\n",
      "Name: LABEL, dtype: int64\n",
      "[[0. 0. 0. 0. 0. 0. 0. 0. 0. 0. 0. 0. 0. 0. 1. 0. 0. 0.]\n",
      " [0. 0. 0. 1. 0. 0. 0. 0. 0. 0. 0. 0. 0. 0. 0. 0. 0. 0.]\n",
      " [0. 0. 0. 0. 0. 0. 0. 0. 0. 0. 0. 0. 1. 0. 0. 0. 0. 0.]\n",
      " [0. 0. 0. 0. 0. 0. 0. 0. 0. 0. 0. 0. 0. 0. 0. 0. 0. 1.]\n",
      " [0. 0. 0. 0. 0. 0. 0. 0. 0. 0. 0. 0. 1. 0. 0. 0. 0. 0.]\n",
      " [0. 0. 0. 0. 0. 0. 0. 0. 0. 0. 0. 0. 0. 0. 0. 1. 0. 0.]\n",
      " [0. 0. 0. 0. 0. 0. 0. 0. 0. 0. 0. 0. 0. 1. 0. 0. 0. 0.]\n",
      " [0. 0. 0. 0. 0. 0. 0. 0. 0. 0. 0. 0. 0. 1. 0. 0. 0. 0.]\n",
      " [0. 0. 0. 1. 0. 0. 0. 0. 0. 0. 0. 0. 0. 0. 0. 0. 0. 0.]\n",
      " [1. 0. 0. 0. 0. 0. 0. 0. 0. 0. 0. 0. 0. 0. 0. 0. 0. 0.]]\n"
     ]
    }
   ],
   "source": [
    "from keras.utils.np_utils import to_categorical\n",
    "\n",
    "\n",
    "#One-hot encode the lab\n",
    "df.loc[df['country'] == 'SA', 'LABEL'] = 0\n",
    "df.loc[df['country'] == 'QA', 'LABEL'] = 1\n",
    "df.loc[df['country'] == 'KW', 'LABEL'] = 2\n",
    "df.loc[df['country'] == 'AE', 'LABEL'] = 3\n",
    "df.loc[df['country'] == 'OM', 'LABEL'] = 4\n",
    "df.loc[df['country'] == 'JO', 'LABEL'] = 5\n",
    "df.loc[df['country'] == 'PL', 'LABEL'] = 6\n",
    "df.loc[df['country'] == 'BH', 'LABEL'] = 7\n",
    "df.loc[df['country'] == 'LY', 'LABEL'] = 8\n",
    "df.loc[df['country'] == 'EG', 'LABEL'] = 9\n",
    "df.loc[df['country'] == 'SD', 'LABEL'] = 10\n",
    "df.loc[df['country'] == 'IQ', 'LABEL'] = 11\n",
    "df.loc[df['country'] == 'LB', 'LABEL'] = 12\n",
    "df.loc[df['country'] == 'SY', 'LABEL'] = 13\n",
    "df.loc[df['country'] == 'TN', 'LABEL'] = 14\n",
    "df.loc[df['country'] == 'DZ', 'LABEL'] = 15\n",
    "df.loc[df['country'] == 'MA', 'LABEL'] = 16\n",
    "df.loc[df['country'] == 'YE', 'LABEL'] = 17\n",
    "print(df['LABEL'][:10])\n",
    "labels = to_categorical(df['LABEL'], num_classes=18)\n",
    "print(labels[:10])\n",
    "if 'country' in df.keys():\n",
    "    df.drop(['country'], axis=1)"
   ]
  },
  {
   "cell_type": "code",
   "execution_count": 36,
   "metadata": {
    "tags": []
   },
   "outputs": [
    {
     "data": {
      "text/html": [
       "<div>\n",
       "<style scoped>\n",
       "    .dataframe tbody tr th:only-of-type {\n",
       "        vertical-align: middle;\n",
       "    }\n",
       "\n",
       "    .dataframe tbody tr th {\n",
       "        vertical-align: top;\n",
       "    }\n",
       "\n",
       "    .dataframe thead th {\n",
       "        text-align: right;\n",
       "    }\n",
       "</style>\n",
       "<table border=\"1\" class=\"dataframe\">\n",
       "  <thead>\n",
       "    <tr style=\"text-align: right;\">\n",
       "      <th></th>\n",
       "      <th>tweet</th>\n",
       "      <th>country</th>\n",
       "      <th>tweet_clean</th>\n",
       "      <th>LABEL</th>\n",
       "    </tr>\n",
       "  </thead>\n",
       "  <tbody>\n",
       "    <tr>\n",
       "      <th>302131</th>\n",
       "      <td>كان جاو عباد راهم استحفظوا على يسارهم واتفاهمو...</td>\n",
       "      <td>TN</td>\n",
       "      <td>كان جاو عباد راهم استحفظوا يسارهم واتفاهموا وا...</td>\n",
       "      <td>14</td>\n",
       "    </tr>\n",
       "    <tr>\n",
       "      <th>193070</th>\n",
       "      <td>انا من سنة حولت على فيفا مع اني من المتعصبين ل...</td>\n",
       "      <td>AE</td>\n",
       "      <td>سنة حولت فيفا اني المتعصبين لكن كونامي سيء الى...</td>\n",
       "      <td>3</td>\n",
       "    </tr>\n",
       "    <tr>\n",
       "      <th>88604</th>\n",
       "      <td>يمكن ما في شي بضحك عم بحكي جد</td>\n",
       "      <td>LB</td>\n",
       "      <td>يمكن شي بضحك عم بحكي جد</td>\n",
       "      <td>12</td>\n",
       "    </tr>\n",
       "    <tr>\n",
       "      <th>323840</th>\n",
       "      <td>مع انك اغلى ما عندي انا منك وعنك تب</td>\n",
       "      <td>YE</td>\n",
       "      <td>انك اغلى عندي منك وعنك تب</td>\n",
       "      <td>17</td>\n",
       "    </tr>\n",
       "    <tr>\n",
       "      <th>94823</th>\n",
       "      <td>حطيلي لايك بين الحين والاخر حتى اعلم انك بخير</td>\n",
       "      <td>LB</td>\n",
       "      <td>حطيلي لايك بين الحين والاخر حتى اعلم انك بخير</td>\n",
       "      <td>12</td>\n",
       "    </tr>\n",
       "    <tr>\n",
       "      <th>159202</th>\n",
       "      <td>انجينيورا ما كانش</td>\n",
       "      <td>DZ</td>\n",
       "      <td>انجينيورا كانش</td>\n",
       "      <td>15</td>\n",
       "    </tr>\n",
       "    <tr>\n",
       "      <th>30409</th>\n",
       "      <td>هو بكل سنة بنفس هالفترة بنبسط انو خلصت من ام ا...</td>\n",
       "      <td>SY</td>\n",
       "      <td>بكل سنة بنفس هالفترة بنبسط انو خلصت ام الثاني عشر</td>\n",
       "      <td>13</td>\n",
       "    </tr>\n",
       "    <tr>\n",
       "      <th>38306</th>\n",
       "      <td>لا قصدي أملاك الدولة</td>\n",
       "      <td>SY</td>\n",
       "      <td>قصدي أملاك الدولة</td>\n",
       "      <td>13</td>\n",
       "    </tr>\n",
       "    <tr>\n",
       "      <th>182224</th>\n",
       "      <td>كيف شخص يتابعه بالارقام مئات الآلاف والي يتفاع...</td>\n",
       "      <td>AE</td>\n",
       "      <td>كيف شخص يتابعه بالارقام مئات الآلاف والي يتفاع...</td>\n",
       "      <td>3</td>\n",
       "    </tr>\n",
       "    <tr>\n",
       "      <th>220833</th>\n",
       "      <td>صف مع خوياك صديقي القديم</td>\n",
       "      <td>SA</td>\n",
       "      <td>صف خوياك صديقي القديم</td>\n",
       "      <td>0</td>\n",
       "    </tr>\n",
       "  </tbody>\n",
       "</table>\n",
       "</div>"
      ],
      "text/plain": [
       "                                                    tweet country  \\\n",
       "302131  كان جاو عباد راهم استحفظوا على يسارهم واتفاهمو...      TN   \n",
       "193070  انا من سنة حولت على فيفا مع اني من المتعصبين ل...      AE   \n",
       "88604                       يمكن ما في شي بضحك عم بحكي جد      LB   \n",
       "323840                مع انك اغلى ما عندي انا منك وعنك تب      YE   \n",
       "94823       حطيلي لايك بين الحين والاخر حتى اعلم انك بخير      LB   \n",
       "159202                                  انجينيورا ما كانش      DZ   \n",
       "30409   هو بكل سنة بنفس هالفترة بنبسط انو خلصت من ام ا...      SY   \n",
       "38306                                لا قصدي أملاك الدولة      SY   \n",
       "182224  كيف شخص يتابعه بالارقام مئات الآلاف والي يتفاع...      AE   \n",
       "220833                           صف مع خوياك صديقي القديم      SA   \n",
       "\n",
       "                                              tweet_clean  LABEL  \n",
       "302131  كان جاو عباد راهم استحفظوا يسارهم واتفاهموا وا...     14  \n",
       "193070  سنة حولت فيفا اني المتعصبين لكن كونامي سيء الى...      3  \n",
       "88604                             يمكن شي بضحك عم بحكي جد     12  \n",
       "323840                          انك اغلى عندي منك وعنك تب     17  \n",
       "94823       حطيلي لايك بين الحين والاخر حتى اعلم انك بخير     12  \n",
       "159202                                     انجينيورا كانش     15  \n",
       "30409   بكل سنة بنفس هالفترة بنبسط انو خلصت ام الثاني عشر     13  \n",
       "38306                                   قصدي أملاك الدولة     13  \n",
       "182224  كيف شخص يتابعه بالارقام مئات الآلاف والي يتفاع...      3  \n",
       "220833                              صف خوياك صديقي القديم      0  "
      ]
     },
     "execution_count": 36,
     "metadata": {},
     "output_type": "execute_result"
    }
   ],
   "source": [
    "df.head(10)"
   ]
  },
  {
   "cell_type": "code",
   "execution_count": 37,
   "metadata": {
    "tags": []
   },
   "outputs": [
    {
     "name": "stdout",
     "output_type": "stream",
     "text": [
      "Found 342846 unique tokens.\n"
     ]
    }
   ],
   "source": [
    "from keras.preprocessing.text import Tokenizer\n",
    "from keras_preprocessing.sequence import pad_sequences\n",
    "\n",
    "n_most_common_words = 20000\n",
    "max_len = 250\n",
    "tokenizer = Tokenizer(num_words=n_most_common_words, filters='!\"#$%&()*+,-./:;<=>?@[\\]^_`{|}~', lower=True)\n",
    "tokenizer.fit_on_texts(df['tweet_clean'].values)\n",
    "sequences = tokenizer.texts_to_sequences(df['tweet_clean'].values)\n",
    "word_index = tokenizer.word_index\n",
    "print('Found %s unique tokens.' % len(word_index))\n",
    "\n",
    "X = pad_sequences(sequences, maxlen=max_len)"
   ]
  },
  {
   "cell_type": "code",
   "execution_count": 38,
   "metadata": {
    "tags": []
   },
   "outputs": [],
   "source": [
    "from sklearn.model_selection import train_test_split\n",
    "\n",
    "X_train, X_test, y_train, y_test = train_test_split(X , labels, test_size=0.1, random_state=42)"
   ]
  },
  {
   "cell_type": "code",
   "execution_count": 39,
   "metadata": {
    "tags": []
   },
   "outputs": [
    {
     "data": {
      "text/plain": [
       "array([[0., 0., 0., 0., 0., 0., 0., 0., 0., 0., 0., 0., 0., 0., 1., 0.,\n",
       "        0., 0.],\n",
       "       [0., 0., 0., 1., 0., 0., 0., 0., 0., 0., 0., 0., 0., 0., 0., 0.,\n",
       "        0., 0.]], dtype=float32)"
      ]
     },
     "execution_count": 39,
     "metadata": {},
     "output_type": "execute_result"
    }
   ],
   "source": [
    "epochs = 30\n",
    "emb_dim = 128\n",
    "batch_size = 256\n",
    "labels[:2]"
   ]
  },
  {
   "cell_type": "code",
   "execution_count": 40,
   "metadata": {
    "tags": []
   },
   "outputs": [
    {
     "name": "stdout",
     "output_type": "stream",
     "text": [
      "((298834, 250), (298834, 18), (33204, 250), (33204, 18))\n",
      "Model: \"sequential_3\"\n",
      "_________________________________________________________________\n",
      " Layer (type)                Output Shape              Param #   \n",
      "=================================================================\n",
      " embedding_3 (Embedding)     (None, 250, 128)          2560000   \n",
      "                                                                 \n",
      " spatial_dropout1d_3 (Spatia  (None, 250, 128)         0         \n",
      " lDropout1D)                                                     \n",
      "                                                                 \n",
      " lstm_3 (LSTM)               (None, 64)                49408     \n",
      "                                                                 \n",
      " dense_3 (Dense)             (None, 18)                1170      \n",
      "                                                                 \n",
      "=================================================================\n",
      "Total params: 2,610,578\n",
      "Trainable params: 2,610,578\n",
      "Non-trainable params: 0\n",
      "_________________________________________________________________\n",
      "None\n"
     ]
    }
   ],
   "source": [
    "import tensorflow as tf\n",
    "gpu_devices = tf.config.experimental.list_physical_devices('GPU')\n",
    "for device in gpu_devices:\n",
    "    tf.config.experimental.set_memory_growth(device, True)\n",
    "\n",
    "from keras.layers import Dense, Embedding, LSTM, SpatialDropout1D\n",
    "from keras.models import Sequential\n",
    "from keras.callbacks import EarlyStopping\n",
    "\n",
    "\n",
    "\n",
    "print((X_train.shape, y_train.shape, X_test.shape, y_test.shape))\n",
    "\n",
    "model = Sequential()\n",
    "model.add(Embedding(n_most_common_words, emb_dim, input_length=X.shape[1]))\n",
    "model.add(SpatialDropout1D(0.7))\n",
    "model.add(LSTM(64, dropout=0.7, recurrent_dropout=0.7))\n",
    "model.add(Dense(18, activation='softmax'))\n",
    "model.compile(optimizer='adam', loss='categorical_crossentropy', metrics=['acc'])\n",
    "print(model.summary())\n"
   ]
  },
  {
   "cell_type": "code",
   "execution_count": 41,
   "metadata": {
    "tags": []
   },
   "outputs": [
    {
     "name": "stdout",
     "output_type": "stream",
     "text": [
      "Epoch 1/30\n",
      "934/934 [==============================] - 2022s 2s/step - loss: 2.4768 - acc: 0.1914 - val_loss: 2.0411 - val_acc: 0.3321\n",
      "Epoch 2/30\n",
      "934/934 [==============================] - 2035s 2s/step - loss: 2.0826 - acc: 0.3154 - val_loss: 1.8617 - val_acc: 0.4008\n",
      "Epoch 3/30\n",
      "934/934 [==============================] - 2040s 2s/step - loss: 1.9309 - acc: 0.3721 - val_loss: 1.7821 - val_acc: 0.4244\n",
      "Epoch 4/30\n",
      "934/934 [==============================] - 2010s 2s/step - loss: 1.8389 - acc: 0.4079 - val_loss: 1.7213 - val_acc: 0.4532\n",
      "Epoch 5/30\n",
      "934/934 [==============================] - 2017s 2s/step - loss: 1.7771 - acc: 0.4317 - val_loss: 1.6838 - val_acc: 0.4707\n",
      "Epoch 6/30\n",
      "934/934 [==============================] - 2013s 2s/step - loss: 1.7276 - acc: 0.4495 - val_loss: 1.6664 - val_acc: 0.4802\n",
      "Epoch 7/30\n",
      "934/934 [==============================] - 2009s 2s/step - loss: 1.6894 - acc: 0.4647 - val_loss: 1.6425 - val_acc: 0.4876\n",
      "Epoch 8/30\n",
      "934/934 [==============================] - 2017s 2s/step - loss: 1.6573 - acc: 0.4761 - val_loss: 1.6234 - val_acc: 0.4949\n",
      "Epoch 9/30\n",
      "934/934 [==============================] - 2024s 2s/step - loss: 1.6317 - acc: 0.4848 - val_loss: 1.6197 - val_acc: 0.4965\n",
      "Epoch 10/30\n",
      "934/934 [==============================] - 2029s 2s/step - loss: 1.6113 - acc: 0.4927 - val_loss: 1.6047 - val_acc: 0.5039\n",
      "Epoch 11/30\n",
      "934/934 [==============================] - 2042s 2s/step - loss: 1.5931 - acc: 0.4983 - val_loss: 1.6023 - val_acc: 0.5047\n",
      "Epoch 12/30\n",
      "934/934 [==============================] - 2045s 2s/step - loss: 1.5744 - acc: 0.5049 - val_loss: 1.5948 - val_acc: 0.5096\n",
      "Epoch 13/30\n",
      "934/934 [==============================] - 2043s 2s/step - loss: 1.5588 - acc: 0.5115 - val_loss: 1.5981 - val_acc: 0.5100\n",
      "Epoch 14/30\n",
      "934/934 [==============================] - 2037s 2s/step - loss: 1.5482 - acc: 0.5135 - val_loss: 1.5965 - val_acc: 0.5104\n",
      "Epoch 15/30\n",
      "934/934 [==============================] - 2032s 2s/step - loss: 1.5355 - acc: 0.5194 - val_loss: 1.5931 - val_acc: 0.5125\n",
      "Epoch 16/30\n",
      "934/934 [==============================] - 2033s 2s/step - loss: 1.5259 - acc: 0.5229 - val_loss: 1.5891 - val_acc: 0.5151\n",
      "Epoch 17/30\n",
      "934/934 [==============================] - 2030s 2s/step - loss: 1.5154 - acc: 0.5253 - val_loss: 1.5850 - val_acc: 0.5179\n",
      "Epoch 18/30\n",
      "934/934 [==============================] - 2036s 2s/step - loss: 1.5056 - acc: 0.5302 - val_loss: 1.5788 - val_acc: 0.5191\n",
      "Epoch 19/30\n",
      "934/934 [==============================] - 2032s 2s/step - loss: 1.4966 - acc: 0.5315 - val_loss: 1.5782 - val_acc: 0.5219\n",
      "Epoch 20/30\n",
      "934/934 [==============================] - 2042s 2s/step - loss: 1.4898 - acc: 0.5351 - val_loss: 1.5811 - val_acc: 0.5207\n",
      "Epoch 21/30\n",
      "934/934 [==============================] - 2043s 2s/step - loss: 1.4810 - acc: 0.5369 - val_loss: 1.5806 - val_acc: 0.5219\n",
      "Epoch 22/30\n",
      "934/934 [==============================] - 2059s 2s/step - loss: 1.4748 - acc: 0.5385 - val_loss: 1.5756 - val_acc: 0.5234\n",
      "Epoch 23/30\n",
      "934/934 [==============================] - 2057s 2s/step - loss: 1.4688 - acc: 0.5409 - val_loss: 1.5761 - val_acc: 0.5232\n",
      "Epoch 24/30\n",
      "934/934 [==============================] - 2059s 2s/step - loss: 1.4636 - acc: 0.5432 - val_loss: 1.5723 - val_acc: 0.5248\n",
      "Epoch 25/30\n",
      "934/934 [==============================] - 2051s 2s/step - loss: 1.4557 - acc: 0.5455 - val_loss: 1.5798 - val_acc: 0.5241\n",
      "Epoch 26/30\n",
      "934/934 [==============================] - 2054s 2s/step - loss: 1.4507 - acc: 0.5477 - val_loss: 1.5759 - val_acc: 0.5249\n",
      "Epoch 27/30\n",
      "934/934 [==============================] - 2060s 2s/step - loss: 1.4473 - acc: 0.5478 - val_loss: 1.5726 - val_acc: 0.5262\n",
      "Epoch 28/30\n",
      "934/934 [==============================] - 2061s 2s/step - loss: 1.4437 - acc: 0.5497 - val_loss: 1.5692 - val_acc: 0.5269\n",
      "Epoch 29/30\n",
      "934/934 [==============================] - 2060s 2s/step - loss: 1.4381 - acc: 0.5507 - val_loss: 1.5696 - val_acc: 0.5274\n",
      "Epoch 30/30\n",
      "934/934 [==============================] - 2118s 2s/step - loss: 1.4352 - acc: 0.5524 - val_loss: 1.5690 - val_acc: 0.5300\n"
     ]
    }
   ],
   "source": [
    "history = model.fit(X_train, y_train, epochs=epochs, batch_size=batch_size,validation_split=0.2,callbacks=[EarlyStopping(monitor='val_loss',patience=6, min_delta=0.0001)])"
   ]
  },
  {
   "cell_type": "code",
   "execution_count": 42,
   "metadata": {
    "tags": []
   },
   "outputs": [
    {
     "name": "stdout",
     "output_type": "stream",
     "text": [
      "1038/1038 [==============================] - 43s 42ms/step - loss: 1.5633 - acc: 0.5308\n",
      "Test set\n",
      "  Loss: 1.563\n",
      "  Accuracy: 0.531\n"
     ]
    }
   ],
   "source": [
    "accr = model.evaluate(X_test,y_test)\n",
    "print('Test set\\n  Loss: {:0.3f}\\n  Accuracy: {:0.3f}'.format(accr[0],accr[1]))"
   ]
  },
  {
   "cell_type": "code",
   "execution_count": 43,
   "metadata": {},
   "outputs": [
    {
     "data": {
      "image/png": "[encoded data removed]",
      "text/plain": [
       "<Figure size 432x288 with 1 Axes>"
      ]
     },
     "metadata": {
      "needs_background": "light"
     },
     "output_type": "display_data"
    },
    {
     "data": {
      "image/png": "[encoded data removed]",
      "text/plain": [
       "<Figure size 432x288 with 1 Axes>"
      ]
     },
     "metadata": {
      "needs_background": "light"
     },
     "output_type": "display_data"
    }
   ],
   "source": [
    "acc = history.history['acc']\n",
    "val_acc = history.history['val_acc']\n",
    "loss = history.history['loss']\n",
    "val_loss = history.history['val_loss']\n",
    "\n",
    "epochs = range(1, len(acc) + 1)\n",
    "\n",
    "plt.plot(epochs, acc, 'bo', label='Training acc')\n",
    "plt.plot(epochs, val_acc, 'b', label='Validation acc')\n",
    "plt.title('Training and validation accuracy')\n",
    "plt.legend()\n",
    "\n",
    "plt.figure()\n",
    "\n",
    "plt.plot(epochs, loss, 'bo', label='Training loss')\n",
    "plt.plot(epochs, val_loss, 'b', label='Validation loss')\n",
    "plt.title('Training and validation loss')\n",
    "plt.legend()\n",
    "\n",
    "plt.show()"
   ]
  },
  {
   "cell_type": "code",
   "execution_count": 20,
   "metadata": {
    "execution": {
     "iopub.execute_input": "2022-12-18T16:57:53.852985Z",
     "iopub.status.busy": "2022-12-18T16:57:53.852530Z",
     "iopub.status.idle": "2022-12-18T16:57:54.264087Z",
     "shell.execute_reply": "2022-12-18T16:57:54.263200Z",
     "shell.execute_reply.started": "2022-12-18T16:57:53.852949Z"
    }
   },
   "outputs": [
    {
     "data": {
      "image/png": "[encoded data removed]",
      "text/plain": [
       "<Figure size 432x288 with 1 Axes>"
      ]
     },
     "metadata": {
      "needs_background": "light"
     },
     "output_type": "display_data"
    },
    {
     "data": {
      "image/png": "[encoded data removed]",
      "text/plain": [
       "<Figure size 432x288 with 1 Axes>"
      ]
     },
     "metadata": {
      "needs_background": "light"
     },
     "output_type": "display_data"
    }
   ],
   "source": [
    "acc = history.history['acc']\n",
    "val_acc = history.history['val_acc']\n",
    "loss = history.history['loss']\n",
    "val_loss = history.history['val_loss']\n",
    "\n",
    "epochs = range(1, len(acc) + 1)\n",
    "\n",
    "plt.plot(epochs, acc, 'bo', label='Training acc')\n",
    "plt.plot(epochs, val_acc, 'b', label='Validation acc')\n",
    "plt.title('Training and validation accuracy')\n",
    "plt.legend()\n",
    "\n",
    "plt.figure()\n",
    "\n",
    "plt.plot(epochs, loss, 'bo', label='Training loss')\n",
    "plt.plot(epochs, val_loss, 'b', label='Validation loss')\n",
    "plt.title('Training and validation loss')\n",
    "plt.legend()\n",
    "\n",
    "plt.show()"
   ]
  },
  {
   "cell_type": "code",
   "execution_count": null,
   "metadata": {},
   "outputs": [],
   "source": []
  },
  {
   "cell_type": "code",
   "execution_count": 28,
   "metadata": {
    "tags": []
   },
   "outputs": [
    {
     "name": "stdout",
     "output_type": "stream",
     "text": [
      "1/1 [==============================] - 0s 59ms/step\n",
      "[[0.05649181 0.05620588 0.05638416 0.05731249 0.05514055 0.05427251\n",
      "  0.05541549 0.05613007 0.05591628 0.05493451 0.05479128 0.05695933\n",
      "  0.0559858  0.05504156 0.05484543 0.05474817 0.05655802 0.05286663]] AE\n"
     ]
    }
   ],
   "source": [
    "txt = [\"فيديوات لي كيطلعو ليك فاش كتوصل لباج 987 فالموقع الازرق\"]\n",
    "seq = tokenizer.texts_to_sequences(txt)\n",
    "padded = pad_sequences(seq, maxlen=max_len)\n",
    "pred = model.predict(padded)\n",
    "labels = ['SA','QA','KW','AE','OM','JO','PL','BH','LY','EG','SD','IQ','LB','SY','TN','DZ','MA','YE']\n",
    "print(pred, labels[np.argmax(pred)])"
   ]
  },
  {
   "cell_type": "code",
   "execution_count": null,
   "metadata": {},
   "outputs": [],
   "source": []
  }
 ],
 "metadata": {
  "kernelspec": {
   "display_name": "Python 3 (ipykernel)",
   "language": "python",
   "name": "python3"
  },
  "language_info": {
   "codemirror_mode": {
    "name": "ipython",
    "version": 3
   },
   "file_extension": ".py",
   "mimetype": "text/x-python",
   "name": "python",
   "nbconvert_exporter": "python",
   "pygments_lexer": "ipython3",
   "version": "3.9.12"
  }
 },
 "nbformat": 4,
 "nbformat_minor": 4
}
