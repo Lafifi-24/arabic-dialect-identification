{
 "cells": [
  {
   "cell_type": "code",
   "execution_count": 32,
   "metadata": {
    "execution": {
     "iopub.execute_input": "2022-11-11T16:45:13.214912Z",
     "iopub.status.busy": "2022-11-11T16:45:13.214304Z",
     "iopub.status.idle": "2022-11-11T16:45:13.223262Z",
     "shell.execute_reply": "2022-11-11T16:45:13.221788Z",
     "shell.execute_reply.started": "2022-11-11T16:45:13.214849Z"
    }
   },
   "outputs": [],
   "source": [
    "import pandas as pd\n",
    "import matplotlib.pyplot as plt\n",
    "import re\n",
    "import numpy as np\n",
    "import pyarabic.araby as araby\n",
    "import arabic_reshaper\n",
    "from spellchecker import SpellChecker\n",
    "from tqdm import tqdm\n",
    "from aaransia import transliterate\n"
   ]
  },
  {
   "cell_type": "markdown",
   "metadata": {},
   "source": [
    "### Preprocess N1"
   ]
  },
  {
   "cell_type": "code",
   "execution_count": 17,
   "metadata": {
    "execution": {
     "iopub.execute_input": "2022-11-11T16:45:18.675233Z",
     "iopub.status.busy": "2022-11-11T16:45:18.674765Z",
     "iopub.status.idle": "2022-11-11T16:45:21.358285Z",
     "shell.execute_reply": "2022-11-11T16:45:21.356960Z",
     "shell.execute_reply.started": "2022-11-11T16:45:18.675196Z"
    }
   },
   "outputs": [],
   "source": [
    "#this next file it just a exemple to present how we will handle it\n",
    "data=pd.read_csv('file of data.csv')\n"
   ]
  },
  {
   "cell_type": "code",
   "execution_count": 18,
   "metadata": {
    "execution": {
     "iopub.execute_input": "2022-11-11T16:30:38.754387Z",
     "iopub.status.busy": "2022-11-11T16:30:38.752535Z",
     "iopub.status.idle": "2022-11-11T16:30:38.765578Z",
     "shell.execute_reply": "2022-11-11T16:30:38.764141Z",
     "shell.execute_reply.started": "2022-11-11T16:30:38.754311Z"
    }
   },
   "outputs": [],
   "source": [
    "\"\"\"\"the idea of this process is to remove all strange letters from arabic,\n",
    "and drop duplicate letters in words like \"هههههههه\" or \"لااااااااااا\" \n",
    "\"\"\"\n",
    "def preprocessing_V0_1_0(data):\n",
    "    for i in tqdm(range(len(data))):\n",
    "        #get just arabic text\n",
    "        data['tweet'].iloc[i]=re.sub(r'[u0600-u06FF]+', '', data['tweet'].iloc[i]).strip()\n",
    "        data['tweet'].iloc[i]=re.sub(r'[a-z]+', '', data['tweet'].iloc[i]).strip()\n",
    "        #remove duplicate letter\n",
    "        data['tweet'].iloc[i]=re.sub(r'(.)\\1+', r'\\1', data['tweet'].iloc[i]).strip()\n",
    "        #removing delimiters from strings\n",
    "        data['tweet'].iloc[i]=' '.join(w for w in re.split(r\"\\W\", data['tweet'].iloc[i]) if w)\n",
    "        #remove letters\n",
    "        data['tweet'].iloc[i]=' '.join(w for w in araby.tokenize(data['tweet'].iloc[i]) if len(w)>1)\n",
    "    return data"
   ]
  },
  {
   "cell_type": "code",
   "execution_count": 20,
   "metadata": {},
   "outputs": [],
   "source": [
    "\"\"\"\"the idea of this process is to check if the word in english or frensh (The most popular foreign languages in the region)\n",
    "if it is, we drop it,for other words we use aransia to translate it to arabic letters,\n",
    "and drop duplicate letters in words like \"هههههههه\" or \"لااااااااااا\" \n",
    "\"\"\"\n",
    "check_frensh= SpellChecker(language='fr')\n",
    "check_English=SpellChecker()\n",
    "def check(word):\n",
    "    if(re.search(r'[a-zA-Z]',word)!=None):\n",
    "        if word == check_English.correction(word) or word == check_frensh.correction(word):\n",
    "            return False\n",
    "    \n",
    "    return True\n",
    "\n",
    "def preprocessing_V0_1_1(data):\n",
    "    for i in tqdm(range(len(data))):\n",
    "        #remove duplicate letter\n",
    "        data['tweet'].iloc[i]=re.sub(r'(.)\\1+', r'\\1', data['tweet'].iloc[i]).strip()\n",
    "        #removing delimiters from strings\n",
    "        data['tweet'].iloc[i]=' '.join(w for w in re.split(r\"\\W\", data['tweet'].iloc[i]) if w)\n",
    "        #remove letters\n",
    "        data['tweet'].iloc[i]=' '.join(w for w in araby.tokenize(data['tweet'].iloc[i]) if len(w)>1)\n",
    "        #remove English word and frensh word \n",
    "        if re.search(r'[a-zA-Z]',data['tweet'].iloc[i])!=None:\n",
    "            data['tweet'].iloc[i]=' '.join(w for w in data['tweet'].iloc[i].split() if check(w))\n",
    "            #use aranisia to translate other word arabic letters\n",
    "            data['tweet'].iloc[i]=transliterate(data['tweet'].iloc[i], source='ma', target='ar' , universal=True)\n",
    "    return data\n"
   ]
  },
  {
   "cell_type": "code",
   "execution_count": 24,
   "metadata": {},
   "outputs": [
    {
     "name": "stderr",
     "output_type": "stream",
     "text": [
      "100%|███████████████████████████████████████████████████████████████████████████| 48020/48020 [02:51<00:00, 279.55it/s]\n"
     ]
    }
   ],
   "source": [
    "data_=preprocessing_V0_1_1(data.copy())"
   ]
  },
  {
   "cell_type": "code",
   "execution_count": 25,
   "metadata": {},
   "outputs": [
    {
     "name": "stderr",
     "output_type": "stream",
     "text": [
      "100%|███████████████████████████████████████████████████████████████████████████| 48020/48020 [03:41<00:00, 217.03it/s]\n"
     ]
    }
   ],
   "source": [
    "data__=preprocessing_V0_1_0(data.copy())"
   ]
  },
  {
   "cell_type": "code",
   "execution_count": 80,
   "metadata": {},
   "outputs": [],
   "source": [
    "data_.to_csv(\"save_file_.csv\",index=False)"
   ]
  },
  {
   "cell_type": "markdown",
   "metadata": {},
   "source": [
    "### compare the results of the two preprocess"
   ]
  },
  {
   "cell_type": "code",
   "execution_count": 42,
   "metadata": {},
   "outputs": [],
   "source": [
    "def clean(data):\n",
    "    data=data[data['country'].isnull()==False]"
   ]
  },
  {
   "cell_type": "code",
   "execution_count": 43,
   "metadata": {},
   "outputs": [
    {
     "name": "stderr",
     "output_type": "stream",
     "text": [
      "C:\\Users\\hamza\\anaconda3\\envs\\all\\lib\\site-packages\\IPython\\core\\interactiveshell.py:3441: DtypeWarning: Columns (3) have mixed types.Specify dtype option on import or set low_memory=False.\n",
      "  exec(code_obj, self.user_global_ns, self.user_ns)\n"
     ]
    }
   ],
   "source": [
    "QADIV1=pd.read_csv('./datasetsV0_1_1/QADIV0.1.1.csv')\n",
    "IADDV1=pd.read_csv('./datasetsV0_1_1/IADD_preproV0.1.1.csv')\n",
    "UM6PV1=pd.read_csv('./datasetsV0_1_1/UM6P_prepro_V0.1.1.csv')\n",
    "clean(QADIV1)\n",
    "clean(IADDV1)\n",
    "clean(UM6PV1)"
   ]
  },
  {
   "cell_type": "code",
   "execution_count": 44,
   "metadata": {},
   "outputs": [],
   "source": [
    "QADIV0=pd.read_csv('./datasets_V0_1_0/QADI_preproV0.1.0.csv')\n",
    "IADDV0=pd.read_csv('./datasets_V0_1_0/IADD_preproV0.1.0.csv')\n",
    "UM6PV0=pd.read_csv('./datasets_V0_1_0/UM6P_preproV0.1.0.csv')\n",
    "clean(QADIV0)\n",
    "clean(IADDV0)\n",
    "clean(UM6PV0)"
   ]
  },
  {
   "cell_type": "code",
   "execution_count": 45,
   "metadata": {},
   "outputs": [],
   "source": [
    "def length_text(data):\n",
    "    try:\n",
    "        text_length = [ len(str(text).split()) for text in data['text']]\n",
    "    except:\n",
    "        try:     \n",
    "            text_length = [ len(str(text).split()) for text in data['tweet']]\n",
    "        except:\n",
    "            text_length = [ len(str(text).split()) for text in data['sent']]\n",
    "    print(\"Max of text len: \",np.max(text_length))\n",
    "    print(\"mean of text len: \",np.mean(text_length))\n",
    "    import matplotlib.pyplot as plt\n",
    "    plt.hist(text_length,bins= range(200),density=True)\n",
    "    plt.show()"
   ]
  },
  {
   "cell_type": "code",
   "execution_count": 46,
   "metadata": {},
   "outputs": [
    {
     "name": "stdout",
     "output_type": "stream",
     "text": [
      "Max of text len:  87\n",
      "mean of text len:  12.890650979521617\n"
     ]
    },
    {
     "data": {
      "image/png": "[encoded data removed]",
      "text/plain": [
       "<Figure size 432x288 with 1 Axes>"
      ]
     },
     "metadata": {
      "needs_background": "light"
     },
     "output_type": "display_data"
    }
   ],
   "source": [
    "length_text(QADIV0)"
   ]
  },
  {
   "cell_type": "code",
   "execution_count": 47,
   "metadata": {},
   "outputs": [
    {
     "name": "stdout",
     "output_type": "stream",
     "text": [
      "Max of text len:  87\n",
      "mean of text len:  13.243001276430434\n"
     ]
    },
    {
     "data": {
      "image/png": "[encoded data removed]",
      "text/plain": [
       "<Figure size 432x288 with 1 Axes>"
      ]
     },
     "metadata": {
      "needs_background": "light"
     },
     "output_type": "display_data"
    }
   ],
   "source": [
    "length_text(QADIV1)"
   ]
  },
  {
   "cell_type": "code",
   "execution_count": 48,
   "metadata": {},
   "outputs": [
    {
     "name": "stdout",
     "output_type": "stream",
     "text": [
      "Max of text len:  6386\n",
      "mean of text len:  11.409875172537959\n"
     ]
    },
    {
     "data": {
      "image/png": "[encoded data removed]",
      "text/plain": [
       "<Figure size 432x288 with 1 Axes>"
      ]
     },
     "metadata": {
      "needs_background": "light"
     },
     "output_type": "display_data"
    }
   ],
   "source": [
    "length_text(IADDV0)"
   ]
  },
  {
   "cell_type": "code",
   "execution_count": 49,
   "metadata": {},
   "outputs": [
    {
     "name": "stdout",
     "output_type": "stream",
     "text": [
      "Max of text len:  7947\n",
      "mean of text len:  11.617633379343456\n"
     ]
    },
    {
     "data": {
      "image/png": "[encoded data removed]",
      "text/plain": [
       "<Figure size 432x288 with 1 Axes>"
      ]
     },
     "metadata": {
      "needs_background": "light"
     },
     "output_type": "display_data"
    }
   ],
   "source": [
    "length_text(IADDV1)"
   ]
  },
  {
   "cell_type": "code",
   "execution_count": 50,
   "metadata": {},
   "outputs": [
    {
     "name": "stdout",
     "output_type": "stream",
     "text": [
      "Max of text len:  60\n",
      "mean of text len:  11.626447313619325\n"
     ]
    },
    {
     "data": {
      "image/png": "[encoded data removed]",
      "text/plain": [
       "<Figure size 432x288 with 1 Axes>"
      ]
     },
     "metadata": {
      "needs_background": "light"
     },
     "output_type": "display_data"
    }
   ],
   "source": [
    "length_text(UM6PV0)"
   ]
  },
  {
   "cell_type": "code",
   "execution_count": 51,
   "metadata": {},
   "outputs": [
    {
     "name": "stdout",
     "output_type": "stream",
     "text": [
      "Max of text len:  60\n",
      "mean of text len:  10.725315057206524\n"
     ]
    },
    {
     "data": {
      "image/png": "[encoded data removed]",
      "text/plain": [
       "<Figure size 432x288 with 1 Axes>"
      ]
     },
     "metadata": {
      "needs_background": "light"
     },
     "output_type": "display_data"
    }
   ],
   "source": [
    "length_text(UM6PV1)"
   ]
  },
  {
   "cell_type": "code",
   "execution_count": null,
   "metadata": {},
   "outputs": [],
   "source": []
  }
 ],
 "metadata": {
  "kernelspec": {
   "display_name": "Python 3 (ipykernel)",
   "language": "python",
   "name": "python3"
  },
  "language_info": {
   "codemirror_mode": {
    "name": "ipython",
    "version": 3
   },
   "file_extension": ".py",
   "mimetype": "text/x-python",
   "name": "python",
   "nbconvert_exporter": "python",
   "pygments_lexer": "ipython3",
   "version": "3.8.12"
  },
  "vscode": {
   "interpreter": {
    "hash": "ec6133f2b094cc9c681e858d87a8339492ce90c8f946aad8fcd26d03d12eb864"
   }
  }
 },
 "nbformat": 4,
 "nbformat_minor": 4
}
